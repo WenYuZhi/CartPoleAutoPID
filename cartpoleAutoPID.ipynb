{
 "cells": [
  {
   "cell_type": "code",
   "execution_count": null,
   "metadata": {
    "collapsed": true
   },
   "outputs": [],
   "source": [
    "import gym\n",
    "import numpy as np \n",
    "import geatpy as ea\n",
    "import time \n",
    "import imageio\n",
    "%matplotlib inline\n",
    "%config InlineBackend.figure_format = 'svg'"
   ]
  },
  {
   "cell_type": "code",
   "execution_count": null,
   "metadata": {
    "collapsed": true
   },
   "outputs": [],
   "source": [
    "class plant():\n",
    "    def __init__(self, timeStep):\n",
    "        self.env = gym.make('CartPole-v1')\n",
    "        self.state = self.env.reset()\n",
    "        self.timeStep = timeStep\n",
    "        self.stateTrace = []\n",
    "    \n",
    "    def run(self, pidController):\n",
    "        self.env.seed(0)\n",
    "        self.state = self.env.reset()\n",
    "        self.stateTrace, self.imageSeq = [], []\n",
    "        for k in range(self.timeStep):\n",
    "            self.imageSeq.append(self.env.render(mode='rgb_array'))\n",
    "            self.action = pidController.controller(self.state)\n",
    "            self.next_state, reward, done, _ = self.env.step(self.action)\n",
    "            self.state = self.next_state\n",
    "            self.stateTrace.append(self.state)\n",
    "            if done:\n",
    "                break\n",
    "        self.finishedTimeStep = k + 1\n",
    "            \n",
    "    def reward(self):\n",
    "        self.stateTrace = np.array(self.stateTrace)\n",
    "        self.objFun = np.abs(self.stateTrace[:,[0,2]]).sum()/ self.finishedTimeStep\n",
    "        self.objFun += self.timeStep - self.finishedTimeStep\n",
    "        return self.objFun\n",
    "    \n",
    "    def close(self):\n",
    "        self.env.close()\n",
    "        \n",
    "    def getGif(self):\n",
    "        imageio.mimsave('cartPoleResults.gif', self.imageSeq, 'GIF', duration = 0.02)"
   ]
  },
  {
   "cell_type": "code",
   "execution_count": null,
   "metadata": {
    "collapsed": true
   },
   "outputs": [],
   "source": [
    "class cartPoleControl:\n",
    "    def __init__(self, kpCart, kiCart, kdCart, kpPole, kiPole, kdPole):\n",
    "        self.kpCart, self.kiCart, self.kdCart = kpCart, kiCart, kdCart\n",
    "        self.kpPole, self.kiPole, self.kdPole = kpPole, kiPole, kdPole\n",
    "        self.cartBiasLast, self.poleBiasLast = 0, 0\n",
    "        self.cartBiasIntegral, self.poleBiasIntegral = 0, 0\n",
    "\n",
    "    def cartPDController(self):\n",
    "        bias = self.state[0]\n",
    "        detaBias = bias - self.cartBiasLast\n",
    "        balance = self.kpCart * bias + self.kdCart * detaBias\n",
    "        self.cartBiasLast = bias\n",
    "        return balance\n",
    "\n",
    "    def polePDController(self):\n",
    "        bias = self.state[2]\n",
    "        detaBias = bias - self.poleBiasLast\n",
    "        balance = - self.kpPole * bias - self.kdPole * detaBias\n",
    "        self.poleBiasLast = bias\n",
    "        return balance\n",
    "    \n",
    "    def cartPIDController(self):\n",
    "        bias = self.state[0]\n",
    "        detaBias = bias - self.cartBiasLast\n",
    "        self.cartBiasIntegral += bias\n",
    "        balance = self.kpCart * bias + self.kiCart * self.cartBiasIntegral + self.kdCart * detaBias\n",
    "        self.cartBiasLast = bias\n",
    "        return balance\n",
    "\n",
    "    def polePIDController(self):\n",
    "        bias = self.state[2] \n",
    "        detaBias = bias - self.poleBiasLast\n",
    "        self.poleBiasIntegral += bias\n",
    "        balance = - self.kpPole * bias - self.kiPole * self.cartBiasIntegral - self.kdPole * detaBias\n",
    "        self.poleBiasLast = bias\n",
    "        return balance\n",
    "\n",
    "    def controller(self, state):  \n",
    "        self.state = state\n",
    "        return 1 if (self.polePIDController() - self.cartPIDController()) < 0 else 0\n"
   ]
  },
  {
   "cell_type": "code",
   "execution_count": null,
   "metadata": {
    "collapsed": true
   },
   "outputs": [],
   "source": [
    "class optimizePID(ea.Problem):                \n",
    "    def __init__(self):\n",
    "        name = 'optimizePID'                  \n",
    "        M = 1                               \n",
    "        maxormins = [1]                    \n",
    "        Dim = 6                             \n",
    "        varTypes = [0] * Dim                \n",
    "        lb = [0,0,0,0,0,0]                    \n",
    "        ub = [100,0.1,100,100,0.1,100]                   \n",
    "        lbin = [0] * Dim               \n",
    "        ubin = [1] * Dim\n",
    "        ea.Problem.__init__(self, name, M, maxormins, Dim, varTypes, lb, ub, lbin, ubin)\n",
    "\n",
    "    def aimFunc(self, pop):                 \n",
    "        Vars = pop.Phen \n",
    "        objvalues = np.zeros((NIND,1))\n",
    "        for i in range(NIND):\n",
    "            kpCart, kiCart, kdCart = Vars[i, [0]], Vars[i, [1]], Vars[i, [2]]\n",
    "            kpPole, kiPole, kdPole = Vars[i, [3]], Vars[i, [4]], Vars[i, [5]]\n",
    "            pidController = cartPoleControl(kpCart, kiCart, kdCart, kpPole, kiPole, kdPole)\n",
    "            cartPole.run(pidController)\n",
    "            objvalues[i] = cartPole.reward()\n",
    "        pop.ObjV = objvalues"
   ]
  },
  {
   "cell_type": "code",
   "execution_count": null,
   "metadata": {},
   "outputs": [],
   "source": [
    "cartPole = plant(200)\n",
    "problem = optimizePID()                                \n",
    "Encoding = 'RI'                                         \n",
    "NIND = 10                                               \n",
    "Field = ea.crtfld(Encoding, problem.varTypes, problem.ranges, problem.borders)                                        \n",
    "population = ea.Population(Encoding, Field, NIND)       \n",
    "\n",
    "myAlgorithm = ea.soea_SEGA_templet(problem, population)      \n",
    "myAlgorithm.MAXGEN = 20                                       \n",
    "myAlgorithm.mutOper.F = 0.5                                         \n",
    "myAlgorithm.recOper.XOVR = 0.5                                     \n",
    "myAlgorithm.drawing = 1                                            \n",
    "\n",
    "[population, obj_trace, var_trace] = myAlgorithm.run() \n",
    "cartPole.close()\n",
    "\n",
    "best_gen = np.argmin(obj_trace[:, 1])                              \n",
    "best_ObjV = obj_trace[best_gen, 1]\n",
    "print('最优的目标函数值为：%s'%(best_ObjV))\n",
    "print('最优的决策变量值为：')\n",
    "bestSolution = []\n",
    "for i in range(var_trace.shape[1]):\n",
    "    bestSolution.append(var_trace[best_gen, i])\n",
    "\n",
    "print('最优的决策变量值为：',bestSolution)\n",
    "print('有效进化代数：%s'%(obj_trace.shape[0]))\n",
    "print('最优的一代是第 %s 代'%(best_gen + 1))\n",
    "print('评价次数：%s'%(myAlgorithm.evalsNum))\n",
    "print('时间已过 %s 秒'%(myAlgorithm.passTime))"
   ]
  },
  {
   "cell_type": "code",
   "execution_count": null,
   "metadata": {},
   "outputs": [],
   "source": [
    "kpCart, kiCart, kdCart = bestSolution[0], bestSolution[1], bestSolution[2]\n",
    "kpPole, kiPole, kdPole = bestSolution[3], bestSolution[4], bestSolution[5]\n",
    "cartPole = plant(200)\n",
    "pidController = cartPoleControl(kpCart, kiCart, kdCart, kpPole, kiPole, kdPole)\n",
    "cartPole.run(pidController)\n",
    "print(\"objective values: \", cartPole.reward())\n",
    "cartPole.getGif()\n",
    "cartPole.close()"
   ]
  }
 ],
 "metadata": {
  "kernelspec": {
   "display_name": "Python 3",
   "language": "python",
   "name": "python3"
  },
  "language_info": {
   "codemirror_mode": {
    "name": "ipython",
    "version": 3
   },
   "file_extension": ".py",
   "mimetype": "text/x-python",
   "name": "python",
   "nbconvert_exporter": "python",
   "pygments_lexer": "ipython3",
   "version": "3.6.3"
  }
 },
 "nbformat": 4,
 "nbformat_minor": 2
}
